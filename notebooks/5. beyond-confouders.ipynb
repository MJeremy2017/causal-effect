{
 "cells": [
  {
   "cell_type": "markdown",
   "id": "c8ebb588",
   "metadata": {},
   "source": [
    "Adding confounder variates into regression when calculating treatment effect is a must. But in real world, there can be too many varibles to identify, and if we bindly adding all of them can be detrimental.\n",
    "\n",
    "# Confounder & Pre-Treatment Covariates\n",
    "\n",
    "Consider we're working on an experiment of sending email(treatment) to debtors and check the effect on their payment returns(outcome)."
   ]
  },
  {
   "cell_type": "code",
   "execution_count": 24,
   "id": "37711151",
   "metadata": {},
   "outputs": [],
   "source": [
    "import warnings\n",
    "warnings.filterwarnings('ignore')\n",
    "\n",
    "import pandas as pd\n",
    "import numpy as np\n",
    "from scipy import stats\n",
    "from matplotlib import style\n",
    "import seaborn as sns\n",
    "from matplotlib import pyplot as plt\n",
    "import statsmodels.formula.api as smf\n",
    "import graphviz as gr\n",
    "import os\n",
    "\n",
    "style.use(\"fivethirtyeight\")"
   ]
  },
  {
   "cell_type": "code",
   "execution_count": 25,
   "id": "518ad844",
   "metadata": {},
   "outputs": [
    {
     "data": {
      "text/html": [
       "<div>\n",
       "<style scoped>\n",
       "    .dataframe tbody tr th:only-of-type {\n",
       "        vertical-align: middle;\n",
       "    }\n",
       "\n",
       "    .dataframe tbody tr th {\n",
       "        vertical-align: top;\n",
       "    }\n",
       "\n",
       "    .dataframe thead th {\n",
       "        text-align: right;\n",
       "    }\n",
       "</style>\n",
       "<table border=\"1\" class=\"dataframe\">\n",
       "  <thead>\n",
       "    <tr style=\"text-align: right;\">\n",
       "      <th></th>\n",
       "      <th>payments</th>\n",
       "      <th>email</th>\n",
       "      <th>opened</th>\n",
       "      <th>agreement</th>\n",
       "      <th>credit_limit</th>\n",
       "      <th>risk_score</th>\n",
       "    </tr>\n",
       "  </thead>\n",
       "  <tbody>\n",
       "    <tr>\n",
       "      <th>0</th>\n",
       "      <td>740</td>\n",
       "      <td>1</td>\n",
       "      <td>1.0</td>\n",
       "      <td>0.0</td>\n",
       "      <td>2348.495260</td>\n",
       "      <td>0.666752</td>\n",
       "    </tr>\n",
       "    <tr>\n",
       "      <th>1</th>\n",
       "      <td>580</td>\n",
       "      <td>1</td>\n",
       "      <td>1.0</td>\n",
       "      <td>1.0</td>\n",
       "      <td>334.111969</td>\n",
       "      <td>0.207395</td>\n",
       "    </tr>\n",
       "    <tr>\n",
       "      <th>2</th>\n",
       "      <td>600</td>\n",
       "      <td>1</td>\n",
       "      <td>1.0</td>\n",
       "      <td>1.0</td>\n",
       "      <td>1360.660722</td>\n",
       "      <td>0.550479</td>\n",
       "    </tr>\n",
       "    <tr>\n",
       "      <th>3</th>\n",
       "      <td>770</td>\n",
       "      <td>0</td>\n",
       "      <td>0.0</td>\n",
       "      <td>0.0</td>\n",
       "      <td>1531.828576</td>\n",
       "      <td>0.560488</td>\n",
       "    </tr>\n",
       "    <tr>\n",
       "      <th>4</th>\n",
       "      <td>660</td>\n",
       "      <td>0</td>\n",
       "      <td>0.0</td>\n",
       "      <td>0.0</td>\n",
       "      <td>979.855647</td>\n",
       "      <td>0.455140</td>\n",
       "    </tr>\n",
       "  </tbody>\n",
       "</table>\n",
       "</div>"
      ],
      "text/plain": [
       "   payments  email  opened  agreement  credit_limit  risk_score\n",
       "0       740      1     1.0        0.0   2348.495260    0.666752\n",
       "1       580      1     1.0        1.0    334.111969    0.207395\n",
       "2       600      1     1.0        1.0   1360.660722    0.550479\n",
       "3       770      0     0.0        0.0   1531.828576    0.560488\n",
       "4       660      0     0.0        0.0    979.855647    0.455140"
      ]
     },
     "execution_count": 25,
     "metadata": {},
     "output_type": "execute_result"
    }
   ],
   "source": [
    "url_base = \"https://raw.githubusercontent.com/matheusfacure/python-causality-handbook/master/causal-inference-for-the-brave-and-true/data/\"\n",
    "file = \"collections_email.csv\"\n",
    "data = pd.read_csv(os.path.join(url_base, file))\n",
    "data.head()"
   ]
  },
  {
   "cell_type": "markdown",
   "id": "84c4ba3d",
   "metadata": {},
   "source": [
    "Assume the experiment is fully randomised."
   ]
  },
  {
   "cell_type": "code",
   "execution_count": 3,
   "id": "ef076e18",
   "metadata": {},
   "outputs": [
    {
     "data": {
      "text/html": [
       "<table class=\"simpletable\">\n",
       "<tr>\n",
       "      <td></td>         <th>coef</th>     <th>std err</th>      <th>t</th>      <th>P>|t|</th>  <th>[0.025</th>    <th>0.975]</th>  \n",
       "</tr>\n",
       "<tr>\n",
       "  <th>Intercept</th> <td>  669.9764</td> <td>    2.061</td> <td>  325.116</td> <td> 0.000</td> <td>  665.937</td> <td>  674.016</td>\n",
       "</tr>\n",
       "<tr>\n",
       "  <th>email</th>     <td>   -0.6203</td> <td>    2.941</td> <td>   -0.211</td> <td> 0.833</td> <td>   -6.387</td> <td>    5.146</td>\n",
       "</tr>\n",
       "</table>"
      ],
      "text/latex": [
       "\\begin{center}\n",
       "\\begin{tabular}{lcccccc}\n",
       "\\toprule\n",
       "                   & \\textbf{coef} & \\textbf{std err} & \\textbf{t} & \\textbf{P$> |$t$|$} & \\textbf{[0.025} & \\textbf{0.975]}  \\\\\n",
       "\\midrule\n",
       "\\textbf{Intercept} &     669.9764  &        2.061     &   325.116  &         0.000        &      665.937    &      674.016     \\\\\n",
       "\\textbf{email}     &      -0.6203  &        2.941     &    -0.211  &         0.833        &       -6.387    &        5.146     \\\\\n",
       "\\bottomrule\n",
       "\\end{tabular}\n",
       "\\end{center}"
      ],
      "text/plain": [
       "<class 'statsmodels.iolib.table.SimpleTable'>"
      ]
     },
     "execution_count": 3,
     "metadata": {},
     "output_type": "execute_result"
    }
   ],
   "source": [
    "model = smf.ols('payments ~ email', data=data).fit()\n",
    "model.summary().tables[1]"
   ]
  },
  {
   "cell_type": "markdown",
   "id": "9db05b9d",
   "metadata": {},
   "source": [
    "The treatment turns out be negative and the p-value is too big to conclude. But notice here that __credit_limit__ and __risk_score__ that exist pre-treatment can be a strong covariate to explain the outcome.\n",
    "\n",
    "__Including pre-treatment variables that can explain the outcome can help reduce variance.__ In regression, when we include a variable, we keep it controlled, that is when fix the variable, we should see that people with similar __risk_score__ should have similar __payments__, which reduces the variance."
   ]
  },
  {
   "cell_type": "code",
   "execution_count": 10,
   "id": "f5ff324a",
   "metadata": {},
   "outputs": [
    {
     "name": "stdout",
     "output_type": "stream",
     "text": [
      "original var: 10809.77, fix risk_score var: 5985.08\n"
     ]
    }
   ],
   "source": [
    "pre_var = data[\"payments\"].var()\n",
    "post_var = data[(data[\"risk_score\"] >= 0.3) & (data[\"risk_score\"] <= 0.4)][\"payments\"].var()\n",
    "\n",
    "print(f\"original var: {pre_var:.2f}, fix risk_score var: {post_var:.2f}\")"
   ]
  },
  {
   "cell_type": "code",
   "execution_count": 4,
   "id": "dc7bb6b2",
   "metadata": {},
   "outputs": [
    {
     "data": {
      "text/plain": [
       "<Axes: xlabel='risk_score', ylabel='payments'>"
      ]
     },
     "execution_count": 4,
     "metadata": {},
     "output_type": "execute_result"
    },
    {
     "data": {
      "image/png": "[encoded data removed]",
      "text/plain": [
       "<Figure size 640x480 with 1 Axes>"
      ]
     },
     "metadata": {},
     "output_type": "display_data"
    }
   ],
   "source": [
    "sns.scatterplot(x=\"risk_score\", y=\"payments\", data=data)"
   ]
  },
  {
   "cell_type": "markdown",
   "id": "aed800ba",
   "metadata": {},
   "source": [
    "We can get this by regressing on the residuals, not that if email group is totally random, the covariates would not be able to explain __email__, thus not reducing any of the variance of email."
   ]
  },
  {
   "cell_type": "code",
   "execution_count": 14,
   "id": "4e6b30df",
   "metadata": {},
   "outputs": [],
   "source": [
    "model_email = smf.ols('email ~ credit_limit + risk_score', data=data).fit()\n",
    "model_payments = smf.ols('payments ~ credit_limit + risk_score', data=data).fit()\n",
    "\n",
    "residuals = pd.DataFrame(dict(res_payments=model_payments.resid, res_email=model_email.resid))\n",
    "\n",
    "model_treatment = smf.ols('res_payments ~ res_email', data=residuals).fit()"
   ]
  },
  {
   "cell_type": "code",
   "execution_count": 15,
   "id": "b189ea60",
   "metadata": {},
   "outputs": [
    {
     "name": "stdout",
     "output_type": "stream",
     "text": [
      "Payments Variance 10807.612416\n",
      "Payments Residual Variance 5652.453558466207\n",
      "Email Variance 0.24991536\n",
      "Email Residual Variance 0.24918421069820032\n"
     ]
    },
    {
     "data": {
      "text/html": [
       "<table class=\"simpletable\">\n",
       "<tr>\n",
       "      <td></td>         <th>coef</th>     <th>std err</th>      <th>t</th>      <th>P>|t|</th>  <th>[0.025</th>    <th>0.975]</th>  \n",
       "</tr>\n",
       "<tr>\n",
       "  <th>Intercept</th> <td>-3.719e-14</td> <td>    1.063</td> <td> -3.5e-14</td> <td> 1.000</td> <td>   -2.084</td> <td>    2.084</td>\n",
       "</tr>\n",
       "<tr>\n",
       "  <th>res_email</th> <td>    4.4304</td> <td>    2.129</td> <td>    2.080</td> <td> 0.038</td> <td>    0.256</td> <td>    8.605</td>\n",
       "</tr>\n",
       "</table>"
      ],
      "text/latex": [
       "\\begin{center}\n",
       "\\begin{tabular}{lcccccc}\n",
       "\\toprule\n",
       "                    & \\textbf{coef} & \\textbf{std err} & \\textbf{t} & \\textbf{P$> |$t$|$} & \\textbf{[0.025} & \\textbf{0.975]}  \\\\\n",
       "\\midrule\n",
       "\\textbf{Intercept}  &   -3.719e-14  &        1.063     &  -3.5e-14  &         1.000        &       -2.084    &        2.084     \\\\\n",
       "\\textbf{res\\_email} &       4.4304  &        2.129     &     2.080  &         0.038        &        0.256    &        8.605     \\\\\n",
       "\\bottomrule\n",
       "\\end{tabular}\n",
       "\\end{center}"
      ],
      "text/plain": [
       "<class 'statsmodels.iolib.table.SimpleTable'>"
      ]
     },
     "execution_count": 15,
     "metadata": {},
     "output_type": "execute_result"
    }
   ],
   "source": [
    "print(\"Payments Variance\", np.var(data[\"payments\"]))\n",
    "print(\"Payments Residual Variance\", np.var(residuals[\"res_payments\"]))\n",
    "\n",
    "print(\"Email Variance\", np.var(data[\"email\"]))\n",
    "print(\"Email Residual Variance\", np.var(residuals[\"res_email\"]))\n",
    "\n",
    "model_treatment.summary().tables[1]"
   ]
  },
  {
   "cell_type": "code",
   "execution_count": 23,
   "id": "c69ca1d1",
   "metadata": {},
   "outputs": [
    {
     "name": "stdout",
     "output_type": "stream",
     "text": [
      "==============================================================================\n",
      "                 coef    std err          t      P>|t|      [0.025      0.975]\n",
      "------------------------------------------------------------------------------\n",
      "Intercept     -2.1681      1.490     -1.455      0.146      -5.088       0.752\n",
      "email          4.4174      2.126      2.077      0.038       0.249       8.586\n",
      "============================================================================== ================================================================================\n",
      "                   coef    std err          t      P>|t|      [0.025      0.975]\n",
      "--------------------------------------------------------------------------------\n",
      "Intercept      490.8653      9.715     50.527      0.000     471.820     509.911\n",
      "email            4.4304      2.130      2.080      0.038       0.255       8.606\n",
      "credit_limit     0.1511      0.008     18.833      0.000       0.135       0.167\n",
      "risk_score      -8.0516     38.424     -0.210      0.834     -83.379      67.276\n",
      "================================================================================\n"
     ]
    }
   ],
   "source": [
    "# [Optional]this also works\n",
    "model_payments = smf.ols('payments ~ credit_limit + risk_score', data=data).fit()\n",
    "\n",
    "residuals = pd.DataFrame(dict(res_payments=model_payments.resid, email=data[\"email\"]))\n",
    "\n",
    "t1 = smf.ols('res_payments ~ email', data=residuals).fit().summary().tables[1]\n",
    "\n",
    "t2 = smf.ols('payments ~ email + credit_limit + risk_score', data=data).fit().summary().tables[1]\n",
    "\n",
    "print(t1, t2)"
   ]
  },
  {
   "cell_type": "code",
   "execution_count": 18,
   "id": "003b7a75",
   "metadata": {},
   "outputs": [
    {
     "data": {
      "image/svg+xml": [
       "<?xml version=\"1.0\" encoding=\"UTF-8\" standalone=\"no\"?>\n",
       "<!DOCTYPE svg PUBLIC \"-//W3C//DTD SVG 1.1//EN\"\n",
       " \"http://www.w3.org/Graphics/SVG/1.1/DTD/svg11.dtd\">\n",
       "<!-- Generated by graphviz version 12.2.1 (20241206.2353)\n",
       " -->\n",
       "<!-- Pages: 1 -->\n",
       "<svg width=\"458pt\" height=\"116pt\"\n",
       " viewBox=\"0.00 0.00 457.79 116.00\" xmlns=\"http://www.w3.org/2000/svg\" xmlns:xlink=\"http://www.w3.org/1999/xlink\">\n",
       "<g id=\"graph0\" class=\"graph\" transform=\"scale(1 1) rotate(0) translate(4 112)\">\n",
       "<polygon fill=\"white\" stroke=\"none\" points=\"-4,4 -4,-112 453.79,-112 453.79,4 -4,4\"/>\n",
       "<!-- X -->\n",
       "<g id=\"node1\" class=\"node\">\n",
       "<title>X</title>\n",
       "<ellipse fill=\"none\" stroke=\"black\" cx=\"27\" cy=\"-90\" rx=\"27\" ry=\"18\"/>\n",
       "<text text-anchor=\"middle\" x=\"27\" y=\"-84.95\" font-family=\"Times,serif\" font-size=\"14.00\">X</text>\n",
       "</g>\n",
       "<!-- Y -->\n",
       "<g id=\"node2\" class=\"node\">\n",
       "<title>Y</title>\n",
       "<ellipse fill=\"none\" stroke=\"black\" cx=\"63\" cy=\"-18\" rx=\"27\" ry=\"18\"/>\n",
       "<text text-anchor=\"middle\" x=\"63\" y=\"-12.95\" font-family=\"Times,serif\" font-size=\"14.00\">Y</text>\n",
       "</g>\n",
       "<!-- X&#45;&gt;Y -->\n",
       "<g id=\"edge1\" class=\"edge\">\n",
       "<title>X&#45;&gt;Y</title>\n",
       "<path fill=\"none\" stroke=\"black\" d=\"M35.35,-72.76C39.58,-64.55 44.81,-54.37 49.58,-45.09\"/>\n",
       "<polygon fill=\"black\" stroke=\"black\" points=\"52.54,-46.99 54,-36.49 46.32,-43.79 52.54,-46.99\"/>\n",
       "</g>\n",
       "<!-- T -->\n",
       "<g id=\"node3\" class=\"node\">\n",
       "<title>T</title>\n",
       "<ellipse fill=\"none\" stroke=\"gold\" cx=\"99\" cy=\"-90\" rx=\"27\" ry=\"18\"/>\n",
       "<text text-anchor=\"middle\" x=\"99\" y=\"-84.95\" font-family=\"Times,serif\" font-size=\"14.00\">T</text>\n",
       "</g>\n",
       "<!-- T&#45;&gt;Y -->\n",
       "<g id=\"edge2\" class=\"edge\">\n",
       "<title>T&#45;&gt;Y</title>\n",
       "<path fill=\"none\" stroke=\"black\" d=\"M90.65,-72.76C86.42,-64.55 81.19,-54.37 76.42,-45.09\"/>\n",
       "<polygon fill=\"black\" stroke=\"black\" points=\"79.68,-43.79 72,-36.49 73.46,-46.99 79.68,-43.79\"/>\n",
       "</g>\n",
       "<!-- email -->\n",
       "<g id=\"node4\" class=\"node\">\n",
       "<title>email</title>\n",
       "<ellipse fill=\"none\" stroke=\"gold\" cx=\"176\" cy=\"-90\" rx=\"31.9\" ry=\"18\"/>\n",
       "<text text-anchor=\"middle\" x=\"176\" y=\"-84.95\" font-family=\"Times,serif\" font-size=\"14.00\">email</text>\n",
       "</g>\n",
       "<!-- payments -->\n",
       "<g id=\"node6\" class=\"node\">\n",
       "<title>payments</title>\n",
       "<ellipse fill=\"none\" stroke=\"black\" cx=\"280\" cy=\"-18\" rx=\"46.75\" ry=\"18\"/>\n",
       "<text text-anchor=\"middle\" x=\"280\" y=\"-12.95\" font-family=\"Times,serif\" font-size=\"14.00\">payments</text>\n",
       "</g>\n",
       "<!-- email&#45;&gt;payments -->\n",
       "<g id=\"edge5\" class=\"edge\">\n",
       "<title>email&#45;&gt;payments</title>\n",
       "<path fill=\"none\" stroke=\"black\" d=\"M196.05,-75.5C210.76,-65.61 231.02,-51.96 247.96,-40.56\"/>\n",
       "<polygon fill=\"black\" stroke=\"black\" points=\"249.88,-43.49 256.23,-35 245.98,-37.68 249.88,-43.49\"/>\n",
       "</g>\n",
       "<!-- credit_limit -->\n",
       "<g id=\"node5\" class=\"node\">\n",
       "<title>credit_limit</title>\n",
       "<ellipse fill=\"none\" stroke=\"black\" cx=\"280\" cy=\"-90\" rx=\"54.42\" ry=\"18\"/>\n",
       "<text text-anchor=\"middle\" x=\"280\" y=\"-84.95\" font-family=\"Times,serif\" font-size=\"14.00\">credit_limit</text>\n",
       "</g>\n",
       "<!-- credit_limit&#45;&gt;payments -->\n",
       "<g id=\"edge3\" class=\"edge\">\n",
       "<title>credit_limit&#45;&gt;payments</title>\n",
       "<path fill=\"none\" stroke=\"black\" d=\"M280,-71.7C280,-64.41 280,-55.73 280,-47.54\"/>\n",
       "<polygon fill=\"black\" stroke=\"black\" points=\"283.5,-47.62 280,-37.62 276.5,-47.62 283.5,-47.62\"/>\n",
       "</g>\n",
       "<!-- risk_score -->\n",
       "<g id=\"node7\" class=\"node\">\n",
       "<title>risk_score</title>\n",
       "<ellipse fill=\"none\" stroke=\"black\" cx=\"401\" cy=\"-90\" rx=\"48.79\" ry=\"18\"/>\n",
       "<text text-anchor=\"middle\" x=\"401\" y=\"-84.95\" font-family=\"Times,serif\" font-size=\"14.00\">risk_score</text>\n",
       "</g>\n",
       "<!-- risk_score&#45;&gt;payments -->\n",
       "<g id=\"edge4\" class=\"edge\">\n",
       "<title>risk_score&#45;&gt;payments</title>\n",
       "<path fill=\"none\" stroke=\"black\" d=\"M375.63,-74.33C357.93,-64.08 334.08,-50.29 314.63,-39.04\"/>\n",
       "<polygon fill=\"black\" stroke=\"black\" points=\"316.64,-36.15 306.23,-34.17 313.13,-42.21 316.64,-36.15\"/>\n",
       "</g>\n",
       "</g>\n",
       "</svg>\n"
      ],
      "text/plain": [
       "<graphviz.graphs.Digraph at 0x2842b2790>"
      ]
     },
     "execution_count": 18,
     "metadata": {},
     "output_type": "execute_result"
    }
   ],
   "source": [
    "g = gr.Digraph()\n",
    "g.edge(\"X\", \"Y\"), g.edge(\"T\", \"Y\")\n",
    "g.node(\"T\", color=\"gold\")\n",
    "\n",
    "g.node(\"email\", color=\"gold\")\n",
    "g.edge(\"credit_limit\", \"payments\")\n",
    "g.edge(\"risk_score\", \"payments\")\n",
    "g.edge(\"email\", \"payments\")\n",
    "\n",
    "g"
   ]
  },
  {
   "cell_type": "markdown",
   "id": "088d13b9",
   "metadata": {},
   "source": [
    "# Harmful Covariates\n",
    "\n",
    "Consider a treatment applied to patients in two different hospitals, and the outcome is the number of days hospitalised.\n",
    "\n",
    "_However, the treatment is not applied equally, severe patients are more likely to receive a treatment and severe are also more likely to be sent to one of the hospitals._"
   ]
  },
  {
   "cell_type": "code",
   "execution_count": 26,
   "id": "49ecc839",
   "metadata": {},
   "outputs": [
    {
     "data": {
      "text/html": [
       "<div>\n",
       "<style scoped>\n",
       "    .dataframe tbody tr th:only-of-type {\n",
       "        vertical-align: middle;\n",
       "    }\n",
       "\n",
       "    .dataframe tbody tr th {\n",
       "        vertical-align: top;\n",
       "    }\n",
       "\n",
       "    .dataframe thead th {\n",
       "        text-align: right;\n",
       "    }\n",
       "</style>\n",
       "<table border=\"1\" class=\"dataframe\">\n",
       "  <thead>\n",
       "    <tr style=\"text-align: right;\">\n",
       "      <th></th>\n",
       "      <th>hospital</th>\n",
       "      <th>treatment</th>\n",
       "      <th>severity</th>\n",
       "      <th>days</th>\n",
       "    </tr>\n",
       "  </thead>\n",
       "  <tbody>\n",
       "    <tr>\n",
       "      <th>0</th>\n",
       "      <td>1</td>\n",
       "      <td>1</td>\n",
       "      <td>29.686618</td>\n",
       "      <td>82</td>\n",
       "    </tr>\n",
       "    <tr>\n",
       "      <th>1</th>\n",
       "      <td>1</td>\n",
       "      <td>1</td>\n",
       "      <td>20.050340</td>\n",
       "      <td>57</td>\n",
       "    </tr>\n",
       "    <tr>\n",
       "      <th>2</th>\n",
       "      <td>1</td>\n",
       "      <td>1</td>\n",
       "      <td>20.302399</td>\n",
       "      <td>49</td>\n",
       "    </tr>\n",
       "    <tr>\n",
       "      <th>3</th>\n",
       "      <td>0</td>\n",
       "      <td>0</td>\n",
       "      <td>10.603118</td>\n",
       "      <td>44</td>\n",
       "    </tr>\n",
       "    <tr>\n",
       "      <th>4</th>\n",
       "      <td>0</td>\n",
       "      <td>0</td>\n",
       "      <td>8.332793</td>\n",
       "      <td>15</td>\n",
       "    </tr>\n",
       "  </tbody>\n",
       "</table>\n",
       "</div>"
      ],
      "text/plain": [
       "   hospital  treatment   severity  days\n",
       "0         1          1  29.686618    82\n",
       "1         1          1  20.050340    57\n",
       "2         1          1  20.302399    49\n",
       "3         0          0  10.603118    44\n",
       "4         0          0   8.332793    15"
      ]
     },
     "execution_count": 26,
     "metadata": {},
     "output_type": "execute_result"
    }
   ],
   "source": [
    "hospital = pd.read_csv(os.path.join(url_base, \"hospital_treatment.csv\"))\n",
    "hospital.head()"
   ]
  },
  {
   "cell_type": "code",
   "execution_count": 27,
   "id": "d704e538",
   "metadata": {},
   "outputs": [
    {
     "data": {
      "text/html": [
       "<table class=\"simpletable\">\n",
       "<tr>\n",
       "      <td></td>         <th>coef</th>     <th>std err</th>      <th>t</th>      <th>P>|t|</th>  <th>[0.025</th>    <th>0.975]</th>  \n",
       "</tr>\n",
       "<tr>\n",
       "  <th>Intercept</th> <td>   33.2667</td> <td>    2.662</td> <td>   12.498</td> <td> 0.000</td> <td>   27.968</td> <td>   38.566</td>\n",
       "</tr>\n",
       "<tr>\n",
       "  <th>treatment</th> <td>   14.1533</td> <td>    3.367</td> <td>    4.204</td> <td> 0.000</td> <td>    7.451</td> <td>   20.856</td>\n",
       "</tr>\n",
       "</table>"
      ],
      "text/latex": [
       "\\begin{center}\n",
       "\\begin{tabular}{lcccccc}\n",
       "\\toprule\n",
       "                   & \\textbf{coef} & \\textbf{std err} & \\textbf{t} & \\textbf{P$> |$t$|$} & \\textbf{[0.025} & \\textbf{0.975]}  \\\\\n",
       "\\midrule\n",
       "\\textbf{Intercept} &      33.2667  &        2.662     &    12.498  &         0.000        &       27.968    &       38.566     \\\\\n",
       "\\textbf{treatment} &      14.1533  &        3.367     &     4.204  &         0.000        &        7.451    &       20.856     \\\\\n",
       "\\bottomrule\n",
       "\\end{tabular}\n",
       "\\end{center}"
      ],
      "text/plain": [
       "<class 'statsmodels.iolib.table.SimpleTable'>"
      ]
     },
     "execution_count": 27,
     "metadata": {},
     "output_type": "execute_result"
    }
   ],
   "source": [
    "hosp_1 = smf.ols('days ~ treatment', data=hospital).fit()\n",
    "hosp_1.summary().tables[1]"
   ]
  },
  {
   "cell_type": "markdown",
   "id": "e2b4ed03",
   "metadata": {},
   "source": [
    "In this formula, it seems that treatment actually prolongs the hospitalisation. But clearly, there's a confounder here, which is __severity__, it affects both the outcome days as well as the treatment received. \n",
    "\n",
    "Adding in severity actually solves the problem."
   ]
  },
  {
   "cell_type": "code",
   "execution_count": 28,
   "id": "2f6a3c6c",
   "metadata": {},
   "outputs": [
    {
     "data": {
      "text/html": [
       "<table class=\"simpletable\">\n",
       "<tr>\n",
       "      <td></td>         <th>coef</th>     <th>std err</th>      <th>t</th>      <th>P>|t|</th>  <th>[0.025</th>    <th>0.975]</th>  \n",
       "</tr>\n",
       "<tr>\n",
       "  <th>Intercept</th> <td>   11.6641</td> <td>    2.000</td> <td>    5.832</td> <td> 0.000</td> <td>    7.681</td> <td>   15.647</td>\n",
       "</tr>\n",
       "<tr>\n",
       "  <th>treatment</th> <td>   -7.5912</td> <td>    2.269</td> <td>   -3.345</td> <td> 0.001</td> <td>  -12.110</td> <td>   -3.073</td>\n",
       "</tr>\n",
       "<tr>\n",
       "  <th>severity</th>  <td>    2.2741</td> <td>    0.154</td> <td>   14.793</td> <td> 0.000</td> <td>    1.968</td> <td>    2.580</td>\n",
       "</tr>\n",
       "</table>"
      ],
      "text/latex": [
       "\\begin{center}\n",
       "\\begin{tabular}{lcccccc}\n",
       "\\toprule\n",
       "                   & \\textbf{coef} & \\textbf{std err} & \\textbf{t} & \\textbf{P$> |$t$|$} & \\textbf{[0.025} & \\textbf{0.975]}  \\\\\n",
       "\\midrule\n",
       "\\textbf{Intercept} &      11.6641  &        2.000     &     5.832  &         0.000        &        7.681    &       15.647     \\\\\n",
       "\\textbf{treatment} &      -7.5912  &        2.269     &    -3.345  &         0.001        &      -12.110    &       -3.073     \\\\\n",
       "\\textbf{severity}  &       2.2741  &        0.154     &    14.793  &         0.000        &        1.968    &        2.580     \\\\\n",
       "\\bottomrule\n",
       "\\end{tabular}\n",
       "\\end{center}"
      ],
      "text/plain": [
       "<class 'statsmodels.iolib.table.SimpleTable'>"
      ]
     },
     "execution_count": 28,
     "metadata": {},
     "output_type": "execute_result"
    }
   ],
   "source": [
    "hosp_2 = smf.ols('days ~ treatment + severity', data=hospital).fit()\n",
    "hosp_2.summary().tables[1]"
   ]
  },
  {
   "cell_type": "markdown",
   "id": "3dbc9752",
   "metadata": {},
   "source": [
    "There's another covariate __hospital__ which affects the treatment a patient receives, but it is independent to our outcome once with severity controlled. \n",
    "\n",
    "> __When adding a covariate that explains the treatment but not the outcome, it provides biased result.__\n"
   ]
  },
  {
   "cell_type": "code",
   "execution_count": 32,
   "id": "8f27c44f",
   "metadata": {},
   "outputs": [
    {
     "data": {
      "text/html": [
       "<table class=\"simpletable\">\n",
       "<tr>\n",
       "      <td></td>         <th>coef</th>     <th>std err</th>      <th>t</th>      <th>P>|t|</th>  <th>[0.025</th>    <th>0.975]</th>  \n",
       "</tr>\n",
       "<tr>\n",
       "  <th>Intercept</th> <td>   11.0111</td> <td>    2.118</td> <td>    5.198</td> <td> 0.000</td> <td>    6.792</td> <td>   15.230</td>\n",
       "</tr>\n",
       "<tr>\n",
       "  <th>treatment</th> <td>   -5.0945</td> <td>    3.492</td> <td>   -1.459</td> <td> 0.149</td> <td>  -12.049</td> <td>    1.861</td>\n",
       "</tr>\n",
       "<tr>\n",
       "  <th>severity</th>  <td>    2.3865</td> <td>    0.195</td> <td>   12.251</td> <td> 0.000</td> <td>    1.999</td> <td>    2.774</td>\n",
       "</tr>\n",
       "<tr>\n",
       "  <th>hospital</th>  <td>   -4.1535</td> <td>    4.413</td> <td>   -0.941</td> <td> 0.350</td> <td>  -12.943</td> <td>    4.636</td>\n",
       "</tr>\n",
       "</table>"
      ],
      "text/latex": [
       "\\begin{center}\n",
       "\\begin{tabular}{lcccccc}\n",
       "\\toprule\n",
       "                   & \\textbf{coef} & \\textbf{std err} & \\textbf{t} & \\textbf{P$> |$t$|$} & \\textbf{[0.025} & \\textbf{0.975]}  \\\\\n",
       "\\midrule\n",
       "\\textbf{Intercept} &      11.0111  &        2.118     &     5.198  &         0.000        &        6.792    &       15.230     \\\\\n",
       "\\textbf{treatment} &      -5.0945  &        3.492     &    -1.459  &         0.149        &      -12.049    &        1.861     \\\\\n",
       "\\textbf{severity}  &       2.3865  &        0.195     &    12.251  &         0.000        &        1.999    &        2.774     \\\\\n",
       "\\textbf{hospital}  &      -4.1535  &        4.413     &    -0.941  &         0.350        &      -12.943    &        4.636     \\\\\n",
       "\\bottomrule\n",
       "\\end{tabular}\n",
       "\\end{center}"
      ],
      "text/plain": [
       "<class 'statsmodels.iolib.table.SimpleTable'>"
      ]
     },
     "execution_count": 32,
     "metadata": {},
     "output_type": "execute_result"
    }
   ],
   "source": [
    "hosp_3 = smf.ols('days ~ treatment + severity + hospital', data=hospital).fit()\n",
    "hosp_3.summary().tables[1]"
   ]
  },
  {
   "cell_type": "markdown",
   "id": "0a78794f",
   "metadata": {},
   "source": [
    "We see that the __std_err__ has increased to `3.492` after adding hospital as a covariate and the result becomes in-conclusive."
   ]
  },
  {
   "cell_type": "code",
   "execution_count": 33,
   "id": "37191688",
   "metadata": {},
   "outputs": [],
   "source": [
    "# hosp_3 = smf.ols('days ~ treatment + hospital', data=hospital).fit()\n",
    "# hosp_3.summary().tables[1]"
   ]
  },
  {
   "cell_type": "markdown",
   "id": "6d5955ba",
   "metadata": {},
   "source": [
    "The variance of $\\beta$ is calculated by\n",
    "\n",
    "$$\\hat{\\sigma}^{2} = \\frac{1}{n-2}\\sum(y_i - \\hat{y_i})^2$$\n",
    "\n",
    "$$Var(\\hat{\\beta}) = \\frac{\\hat{\\sigma^{2}}}{\\sum(x_i - \\bar{x_i})^2}$$\n",
    "\n",
    "We can see that lower the variance of $X$, here is the treatment, higher the variance. It means that if the treatment is of very low variance, it is harder to reach a conclusion. Which makes intuitive sense, if in an experiment, most people got treatment and almost none of them didn't receive a treatment, it's going to be really hard to get a conclusive results as the data is not diverse enough.\n",
    "\n",
    "In this case, when we control for __hospital__, the people in the same hospital mostly either receive or not receive a treatment, so it becomes less diverse."
   ]
  },
  {
   "cell_type": "code",
   "execution_count": 51,
   "id": "c1119d72",
   "metadata": {},
   "outputs": [
    {
     "data": {
      "text/html": [
       "<table class=\"simpletable\">\n",
       "<tr>\n",
       "        <td></td>           <th>coef</th>     <th>std err</th>      <th>t</th>      <th>P>|t|</th>  <th>[0.025</th>    <th>0.975]</th>  \n",
       "</tr>\n",
       "<tr>\n",
       "  <th>Intercept</th>     <td>  2.06e-14</td> <td>    0.827</td> <td> 2.49e-14</td> <td> 1.000</td> <td>   -1.646</td> <td>    1.646</td>\n",
       "</tr>\n",
       "<tr>\n",
       "  <th>res_treatment</th> <td>   -5.0945</td> <td>    3.447</td> <td>   -1.478</td> <td> 0.143</td> <td>  -11.957</td> <td>    1.768</td>\n",
       "</tr>\n",
       "</table>"
      ],
      "text/latex": [
       "\\begin{center}\n",
       "\\begin{tabular}{lcccccc}\n",
       "\\toprule\n",
       "                        & \\textbf{coef} & \\textbf{std err} & \\textbf{t} & \\textbf{P$> |$t$|$} & \\textbf{[0.025} & \\textbf{0.975]}  \\\\\n",
       "\\midrule\n",
       "\\textbf{Intercept}      &     2.06e-14  &        0.827     &  2.49e-14  &         1.000        &       -1.646    &        1.646     \\\\\n",
       "\\textbf{res\\_treatment} &      -5.0945  &        3.447     &    -1.478  &         0.143        &      -11.957    &        1.768     \\\\\n",
       "\\bottomrule\n",
       "\\end{tabular}\n",
       "\\end{center}"
      ],
      "text/plain": [
       "<class 'statsmodels.iolib.table.SimpleTable'>"
      ]
     },
     "execution_count": 51,
     "metadata": {},
     "output_type": "execute_result"
    }
   ],
   "source": [
    "# this equivalent to the above\n",
    "model_treatment = smf.ols('treatment ~ severity + hospital', data=hospital).fit()\n",
    "model_days = smf.ols('days ~ severity + hospital', data=hospital).fit()\n",
    "\n",
    "residuals = pd.DataFrame(dict(res_days=model_days.resid, res_treatment=model_treatment.resid))\n",
    "\n",
    "model = smf.ols('res_days ~ res_treatment', data=residuals).fit()\n",
    "\n",
    "model.summary().tables[1]"
   ]
  },
  {
   "cell_type": "code",
   "execution_count": 52,
   "id": "3e909835",
   "metadata": {},
   "outputs": [
    {
     "name": "stdout",
     "output_type": "stream",
     "text": [
      "Treatment Variance 0.234375\n",
      "Treatment Residual Variance 0.057529091872119076\n"
     ]
    }
   ],
   "source": [
    "print(\"Treatment Variance\", np.var(hospital[\"treatment\"]))\n",
    "print(\"Treatment Residual Variance\", np.var(residuals[\"res_treatment\"]))"
   ]
  },
  {
   "cell_type": "code",
   "execution_count": 55,
   "id": "d88b2618",
   "metadata": {},
   "outputs": [
    {
     "name": "stdout",
     "output_type": "stream",
     "text": [
      "SE of the Coeficient: 3.446973767486902\n"
     ]
    }
   ],
   "source": [
    "sigma_hat = sum(model.resid**2)/(len(model.resid)-2)\n",
    "var = sigma_hat/sum((model_treatment.resid - model_treatment.resid.mean())**2)\n",
    "print(\"SE of the Coeficient:\", np.sqrt(var))"
   ]
  },
  {
   "cell_type": "code",
   "execution_count": 56,
   "id": "79970357",
   "metadata": {},
   "outputs": [
    {
     "data": {
      "image/svg+xml": [
       "<?xml version=\"1.0\" encoding=\"UTF-8\" standalone=\"no\"?>\n",
       "<!DOCTYPE svg PUBLIC \"-//W3C//DTD SVG 1.1//EN\"\n",
       " \"http://www.w3.org/Graphics/SVG/1.1/DTD/svg11.dtd\">\n",
       "<!-- Generated by graphviz version 12.2.1 (20241206.2353)\n",
       " -->\n",
       "<!-- Pages: 1 -->\n",
       "<svg width=\"204pt\" height=\"260pt\"\n",
       " viewBox=\"0.00 0.00 204.09 260.00\" xmlns=\"http://www.w3.org/2000/svg\" xmlns:xlink=\"http://www.w3.org/1999/xlink\">\n",
       "<g id=\"graph0\" class=\"graph\" transform=\"scale(1 1) rotate(0) translate(4 256)\">\n",
       "<polygon fill=\"white\" stroke=\"none\" points=\"-4,4 -4,-256 200.09,-256 200.09,4 -4,4\"/>\n",
       "<!-- X -->\n",
       "<g id=\"node1\" class=\"node\">\n",
       "<title>X</title>\n",
       "<ellipse fill=\"none\" stroke=\"black\" cx=\"27\" cy=\"-234\" rx=\"27\" ry=\"18\"/>\n",
       "<text text-anchor=\"middle\" x=\"27\" y=\"-228.95\" font-family=\"Times,serif\" font-size=\"14.00\">X</text>\n",
       "</g>\n",
       "<!-- T -->\n",
       "<g id=\"node2\" class=\"node\">\n",
       "<title>T</title>\n",
       "<ellipse fill=\"none\" stroke=\"gold\" cx=\"27\" cy=\"-162\" rx=\"27\" ry=\"18\"/>\n",
       "<text text-anchor=\"middle\" x=\"27\" y=\"-156.95\" font-family=\"Times,serif\" font-size=\"14.00\">T</text>\n",
       "</g>\n",
       "<!-- X&#45;&gt;T -->\n",
       "<g id=\"edge1\" class=\"edge\">\n",
       "<title>X&#45;&gt;T</title>\n",
       "<path fill=\"none\" stroke=\"black\" d=\"M27,-215.7C27,-208.41 27,-199.73 27,-191.54\"/>\n",
       "<polygon fill=\"black\" stroke=\"black\" points=\"30.5,-191.62 27,-181.62 23.5,-191.62 30.5,-191.62\"/>\n",
       "</g>\n",
       "<!-- Y -->\n",
       "<g id=\"node3\" class=\"node\">\n",
       "<title>Y</title>\n",
       "<ellipse fill=\"none\" stroke=\"black\" cx=\"27\" cy=\"-90\" rx=\"27\" ry=\"18\"/>\n",
       "<text text-anchor=\"middle\" x=\"27\" y=\"-84.95\" font-family=\"Times,serif\" font-size=\"14.00\">Y</text>\n",
       "</g>\n",
       "<!-- T&#45;&gt;Y -->\n",
       "<g id=\"edge2\" class=\"edge\">\n",
       "<title>T&#45;&gt;Y</title>\n",
       "<path fill=\"none\" stroke=\"black\" d=\"M27,-143.7C27,-136.41 27,-127.73 27,-119.54\"/>\n",
       "<polygon fill=\"black\" stroke=\"black\" points=\"30.5,-119.62 27,-109.62 23.5,-119.62 30.5,-119.62\"/>\n",
       "</g>\n",
       "<!-- treatment -->\n",
       "<g id=\"node4\" class=\"node\">\n",
       "<title>treatment</title>\n",
       "<ellipse fill=\"none\" stroke=\"gold\" cx=\"118\" cy=\"-90\" rx=\"46.23\" ry=\"18\"/>\n",
       "<text text-anchor=\"middle\" x=\"118\" y=\"-84.95\" font-family=\"Times,serif\" font-size=\"14.00\">treatment</text>\n",
       "</g>\n",
       "<!-- days -->\n",
       "<g id=\"node7\" class=\"node\">\n",
       "<title>days</title>\n",
       "<ellipse fill=\"none\" stroke=\"black\" cx=\"155\" cy=\"-18\" rx=\"27.81\" ry=\"18\"/>\n",
       "<text text-anchor=\"middle\" x=\"155\" y=\"-12.95\" font-family=\"Times,serif\" font-size=\"14.00\">days</text>\n",
       "</g>\n",
       "<!-- treatment&#45;&gt;days -->\n",
       "<g id=\"edge6\" class=\"edge\">\n",
       "<title>treatment&#45;&gt;days</title>\n",
       "<path fill=\"none\" stroke=\"black\" d=\"M126.96,-72.05C131.2,-64.03 136.36,-54.26 141.1,-45.3\"/>\n",
       "<polygon fill=\"black\" stroke=\"black\" points=\"144.09,-47.12 145.67,-36.65 137.91,-43.85 144.09,-47.12\"/>\n",
       "</g>\n",
       "<!-- severity -->\n",
       "<g id=\"node5\" class=\"node\">\n",
       "<title>severity</title>\n",
       "<ellipse fill=\"none\" stroke=\"black\" cx=\"156\" cy=\"-234\" rx=\"40.09\" ry=\"18\"/>\n",
       "<text text-anchor=\"middle\" x=\"156\" y=\"-228.95\" font-family=\"Times,serif\" font-size=\"14.00\">severity</text>\n",
       "</g>\n",
       "<!-- hospital -->\n",
       "<g id=\"node6\" class=\"node\">\n",
       "<title>hospital</title>\n",
       "<ellipse fill=\"none\" stroke=\"black\" cx=\"121\" cy=\"-162\" rx=\"40.09\" ry=\"18\"/>\n",
       "<text text-anchor=\"middle\" x=\"121\" y=\"-156.95\" font-family=\"Times,serif\" font-size=\"14.00\">hospital</text>\n",
       "</g>\n",
       "<!-- severity&#45;&gt;hospital -->\n",
       "<g id=\"edge3\" class=\"edge\">\n",
       "<title>severity&#45;&gt;hospital</title>\n",
       "<path fill=\"none\" stroke=\"black\" d=\"M147.53,-216.05C143.62,-208.23 138.87,-198.75 134.49,-189.98\"/>\n",
       "<polygon fill=\"black\" stroke=\"black\" points=\"137.67,-188.52 130.07,-181.14 131.41,-191.65 137.67,-188.52\"/>\n",
       "</g>\n",
       "<!-- severity&#45;&gt;days -->\n",
       "<g id=\"edge4\" class=\"edge\">\n",
       "<title>severity&#45;&gt;days</title>\n",
       "<path fill=\"none\" stroke=\"black\" d=\"M161.49,-216.01C164.57,-205.71 168.15,-192.23 170,-180 177.17,-132.52 180.83,-119.38 173,-72 171.6,-63.53 169.02,-54.59 166.25,-46.52\"/>\n",
       "<polygon fill=\"black\" stroke=\"black\" points=\"169.57,-45.41 162.82,-37.24 163,-47.83 169.57,-45.41\"/>\n",
       "</g>\n",
       "<!-- hospital&#45;&gt;treatment -->\n",
       "<g id=\"edge5\" class=\"edge\">\n",
       "<title>hospital&#45;&gt;treatment</title>\n",
       "<path fill=\"none\" stroke=\"black\" d=\"M120.26,-143.7C119.95,-136.41 119.57,-127.73 119.22,-119.54\"/>\n",
       "<polygon fill=\"black\" stroke=\"black\" points=\"122.72,-119.46 118.8,-109.62 115.73,-119.76 122.72,-119.46\"/>\n",
       "</g>\n",
       "</g>\n",
       "</svg>\n"
      ],
      "text/plain": [
       "<graphviz.graphs.Digraph at 0x285c78c50>"
      ]
     },
     "execution_count": 56,
     "metadata": {},
     "output_type": "execute_result"
    }
   ],
   "source": [
    "g = gr.Digraph()\n",
    "\n",
    "g.edge(\"X\", \"T\"), g.edge(\"T\", \"Y\")\n",
    "g.node(\"T\", color=\"gold\")\n",
    "\n",
    "g.node(\"treatment\", color=\"gold\")\n",
    "g.edge(\"severity\", \"hospital\")\n",
    "g.edge(\"severity\", \"days\")\n",
    "g.edge(\"hospital\", \"treatment\")\n",
    "g.edge(\"treatment\", \"days\")\n",
    "\n",
    "g"
   ]
  },
  {
   "cell_type": "markdown",
   "id": "73443f4c",
   "metadata": {},
   "source": [
    "# Selection Bias\n",
    "\n",
    "Confounders are the common __cause__ of treatment and outcome. Selection bias is \n",
    "\n",
    "1. a common effect of both Treatment & Outcome.\n",
    "2. Or a mediator between Treatment & Outcome.\n",
    "\n",
    "In the example above, `opened` is whether the guy has opened the email, and `agreement` is whether he/she reached an agreement on the debt after receiving the email. They all caused by treatment, adding them in will block the effect of the treatment!"
   ]
  },
  {
   "cell_type": "code",
   "execution_count": 58,
   "id": "f1e072ef",
   "metadata": {},
   "outputs": [
    {
     "data": {
      "image/svg+xml": [
       "<?xml version=\"1.0\" encoding=\"UTF-8\" standalone=\"no\"?>\n",
       "<!DOCTYPE svg PUBLIC \"-//W3C//DTD SVG 1.1//EN\"\n",
       " \"http://www.w3.org/Graphics/SVG/1.1/DTD/svg11.dtd\">\n",
       "<!-- Generated by graphviz version 12.2.1 (20241206.2353)\n",
       " -->\n",
       "<!-- Pages: 1 -->\n",
       "<svg width=\"314pt\" height=\"260pt\"\n",
       " viewBox=\"0.00 0.00 313.70 260.00\" xmlns=\"http://www.w3.org/2000/svg\" xmlns:xlink=\"http://www.w3.org/1999/xlink\">\n",
       "<g id=\"graph0\" class=\"graph\" transform=\"scale(1 1) rotate(0) translate(4 256)\">\n",
       "<polygon fill=\"white\" stroke=\"none\" points=\"-4,4 -4,-256 309.7,-256 309.7,4 -4,4\"/>\n",
       "<!-- email -->\n",
       "<g id=\"node1\" class=\"node\">\n",
       "<title>email</title>\n",
       "<ellipse fill=\"none\" stroke=\"black\" cx=\"31.9\" cy=\"-234\" rx=\"31.9\" ry=\"18\"/>\n",
       "<text text-anchor=\"middle\" x=\"31.9\" y=\"-228.95\" font-family=\"Times,serif\" font-size=\"14.00\">email</text>\n",
       "</g>\n",
       "<!-- payments -->\n",
       "<g id=\"node2\" class=\"node\">\n",
       "<title>payments</title>\n",
       "<ellipse fill=\"none\" stroke=\"black\" cx=\"175.9\" cy=\"-18\" rx=\"46.75\" ry=\"18\"/>\n",
       "<text text-anchor=\"middle\" x=\"175.9\" y=\"-12.95\" font-family=\"Times,serif\" font-size=\"14.00\">payments</text>\n",
       "</g>\n",
       "<!-- email&#45;&gt;payments -->\n",
       "<g id=\"edge1\" class=\"edge\">\n",
       "<title>email&#45;&gt;payments</title>\n",
       "<path fill=\"none\" stroke=\"black\" d=\"M27.06,-215.78C19.24,-184.02 7.66,-115.53 38.9,-72 57.63,-45.91 91.08,-32.67 120.23,-25.94\"/>\n",
       "<polygon fill=\"black\" stroke=\"black\" points=\"120.6,-29.44 129.68,-23.98 119.17,-22.59 120.6,-29.44\"/>\n",
       "</g>\n",
       "<!-- opened -->\n",
       "<g id=\"node3\" class=\"node\">\n",
       "<title>opened</title>\n",
       "<ellipse fill=\"none\" stroke=\"black\" cx=\"135.9\" cy=\"-162\" rx=\"37.53\" ry=\"18\"/>\n",
       "<text text-anchor=\"middle\" x=\"135.9\" y=\"-156.95\" font-family=\"Times,serif\" font-size=\"14.00\">opened</text>\n",
       "</g>\n",
       "<!-- email&#45;&gt;opened -->\n",
       "<g id=\"edge2\" class=\"edge\">\n",
       "<title>email&#45;&gt;opened</title>\n",
       "<path fill=\"none\" stroke=\"black\" d=\"M51.95,-219.5C67.19,-209.25 88.41,-194.97 105.7,-183.33\"/>\n",
       "<polygon fill=\"black\" stroke=\"black\" points=\"107.24,-186.51 113.59,-178.02 103.34,-180.7 107.24,-186.51\"/>\n",
       "</g>\n",
       "<!-- agreement -->\n",
       "<g id=\"node4\" class=\"node\">\n",
       "<title>agreement</title>\n",
       "<ellipse fill=\"none\" stroke=\"black\" cx=\"97.9\" cy=\"-90\" rx=\"49.82\" ry=\"18\"/>\n",
       "<text text-anchor=\"middle\" x=\"97.9\" y=\"-84.95\" font-family=\"Times,serif\" font-size=\"14.00\">agreement</text>\n",
       "</g>\n",
       "<!-- email&#45;&gt;agreement -->\n",
       "<g id=\"edge3\" class=\"edge\">\n",
       "<title>email&#45;&gt;agreement</title>\n",
       "<path fill=\"none\" stroke=\"black\" d=\"M39.73,-216.15C51,-191.92 71.89,-146.96 85.33,-118.05\"/>\n",
       "<polygon fill=\"black\" stroke=\"black\" points=\"88.4,-119.74 89.44,-109.2 82.06,-116.79 88.4,-119.74\"/>\n",
       "</g>\n",
       "<!-- opened&#45;&gt;payments -->\n",
       "<g id=\"edge4\" class=\"edge\">\n",
       "<title>opened&#45;&gt;payments</title>\n",
       "<path fill=\"none\" stroke=\"black\" d=\"M143.45,-144.07C147.82,-133.79 153.18,-120.32 156.9,-108 162.92,-88.09 167.78,-65.13 171.07,-47.51\"/>\n",
       "<polygon fill=\"black\" stroke=\"black\" points=\"174.5,-48.23 172.83,-37.77 167.61,-46.99 174.5,-48.23\"/>\n",
       "</g>\n",
       "<!-- opened&#45;&gt;agreement -->\n",
       "<g id=\"edge5\" class=\"edge\">\n",
       "<title>opened&#45;&gt;agreement</title>\n",
       "<path fill=\"none\" stroke=\"black\" d=\"M126.7,-144.05C122.41,-136.14 117.2,-126.54 112.39,-117.69\"/>\n",
       "<polygon fill=\"black\" stroke=\"black\" points=\"115.59,-116.24 107.74,-109.12 109.43,-119.58 115.59,-116.24\"/>\n",
       "</g>\n",
       "<!-- agreement&#45;&gt;payments -->\n",
       "<g id=\"edge6\" class=\"edge\">\n",
       "<title>agreement&#45;&gt;payments</title>\n",
       "<path fill=\"none\" stroke=\"black\" d=\"M115.99,-72.76C126.01,-63.78 138.63,-52.45 149.71,-42.51\"/>\n",
       "<polygon fill=\"black\" stroke=\"black\" points=\"151.95,-45.2 157.05,-35.92 147.27,-39.99 151.95,-45.2\"/>\n",
       "</g>\n",
       "<!-- credit_limit -->\n",
       "<g id=\"node5\" class=\"node\">\n",
       "<title>credit_limit</title>\n",
       "<ellipse fill=\"none\" stroke=\"black\" cx=\"135.9\" cy=\"-234\" rx=\"54.42\" ry=\"18\"/>\n",
       "<text text-anchor=\"middle\" x=\"135.9\" y=\"-228.95\" font-family=\"Times,serif\" font-size=\"14.00\">credit_limit</text>\n",
       "</g>\n",
       "<!-- credit_limit&#45;&gt;payments -->\n",
       "<g id=\"edge7\" class=\"edge\">\n",
       "<title>credit_limit&#45;&gt;payments</title>\n",
       "<path fill=\"none\" stroke=\"black\" d=\"M155.7,-217.09C165.93,-207.55 177.4,-194.49 182.9,-180 199.61,-135.97 191.32,-80.23 183.68,-47.22\"/>\n",
       "<polygon fill=\"black\" stroke=\"black\" points=\"187.11,-46.49 181.31,-37.62 180.31,-48.17 187.11,-46.49\"/>\n",
       "</g>\n",
       "<!-- credit_limit&#45;&gt;opened -->\n",
       "<g id=\"edge8\" class=\"edge\">\n",
       "<title>credit_limit&#45;&gt;opened</title>\n",
       "<path fill=\"none\" stroke=\"black\" d=\"M135.9,-215.7C135.9,-208.41 135.9,-199.73 135.9,-191.54\"/>\n",
       "<polygon fill=\"black\" stroke=\"black\" points=\"139.4,-191.62 135.9,-181.62 132.4,-191.62 139.4,-191.62\"/>\n",
       "</g>\n",
       "<!-- credit_limit&#45;&gt;agreement -->\n",
       "<g id=\"edge9\" class=\"edge\">\n",
       "<title>credit_limit&#45;&gt;agreement</title>\n",
       "<path fill=\"none\" stroke=\"black\" d=\"M116.11,-217.09C105.87,-207.55 94.4,-194.49 88.9,-180 81.53,-160.59 84.32,-137.17 88.66,-119.23\"/>\n",
       "<polygon fill=\"black\" stroke=\"black\" points=\"91.98,-120.36 91.25,-109.79 85.23,-118.51 91.98,-120.36\"/>\n",
       "</g>\n",
       "<!-- risk_score -->\n",
       "<g id=\"node6\" class=\"node\">\n",
       "<title>risk_score</title>\n",
       "<ellipse fill=\"none\" stroke=\"black\" cx=\"256.9\" cy=\"-234\" rx=\"48.79\" ry=\"18\"/>\n",
       "<text text-anchor=\"middle\" x=\"256.9\" y=\"-228.95\" font-family=\"Times,serif\" font-size=\"14.00\">risk_score</text>\n",
       "</g>\n",
       "<!-- risk_score&#45;&gt;payments -->\n",
       "<g id=\"edge10\" class=\"edge\">\n",
       "<title>risk_score&#45;&gt;payments</title>\n",
       "<path fill=\"none\" stroke=\"black\" d=\"M252.47,-215.69C244.55,-185.77 226.74,-122.72 204.9,-72 201.11,-63.19 196.33,-53.92 191.75,-45.63\"/>\n",
       "<polygon fill=\"black\" stroke=\"black\" points=\"194.88,-44.06 186.89,-37.09 188.79,-47.52 194.88,-44.06\"/>\n",
       "</g>\n",
       "<!-- risk_score&#45;&gt;opened -->\n",
       "<g id=\"edge11\" class=\"edge\">\n",
       "<title>risk_score&#45;&gt;opened</title>\n",
       "<path fill=\"none\" stroke=\"black\" d=\"M231.54,-218.33C213.36,-207.81 188.71,-193.55 168.99,-182.14\"/>\n",
       "<polygon fill=\"black\" stroke=\"black\" points=\"170.9,-179.21 160.5,-177.23 167.4,-185.26 170.9,-179.21\"/>\n",
       "</g>\n",
       "<!-- risk_score&#45;&gt;agreement -->\n",
       "<g id=\"edge12\" class=\"edge\">\n",
       "<title>risk_score&#45;&gt;agreement</title>\n",
       "<path fill=\"none\" stroke=\"black\" d=\"M245.46,-216.21C231.98,-197.21 208.19,-166.06 182.9,-144 168.5,-131.43 150.79,-119.89 135.28,-110.8\"/>\n",
       "<polygon fill=\"black\" stroke=\"black\" points=\"137.19,-107.86 126.77,-105.95 133.72,-113.94 137.19,-107.86\"/>\n",
       "</g>\n",
       "</g>\n",
       "</svg>\n"
      ],
      "text/plain": [
       "<graphviz.graphs.Digraph at 0x285a858d0>"
      ]
     },
     "execution_count": 58,
     "metadata": {},
     "output_type": "execute_result"
    }
   ],
   "source": [
    "g = gr.Digraph()\n",
    "\n",
    "g.edge(\"email\", \"payments\")\n",
    "g.edge(\"email\", \"opened\")\n",
    "g.edge(\"email\", \"agreement\")\n",
    "g.edge(\"opened\", \"payments\")\n",
    "g.edge(\"opened\", \"agreement\")\n",
    "g.edge(\"agreement\", \"payments\")\n",
    "\n",
    "g.edge(\"credit_limit\", \"payments\")\n",
    "g.edge(\"credit_limit\", \"opened\")\n",
    "g.edge(\"credit_limit\", \"agreement\")\n",
    "g.edge(\"risk_score\", \"payments\")\n",
    "g.edge(\"risk_score\", \"opened\")\n",
    "g.edge(\"risk_score\", \"agreement\")\n",
    "\n",
    "g"
   ]
  },
  {
   "cell_type": "code",
   "execution_count": 57,
   "id": "642d94a8",
   "metadata": {},
   "outputs": [
    {
     "data": {
      "text/html": [
       "<table class=\"simpletable\">\n",
       "<tr>\n",
       "        <td></td>          <th>coef</th>     <th>std err</th>      <th>t</th>      <th>P>|t|</th>  <th>[0.025</th>    <th>0.975]</th>  \n",
       "</tr>\n",
       "<tr>\n",
       "  <th>Intercept</th>    <td>  488.4416</td> <td>    9.716</td> <td>   50.272</td> <td> 0.000</td> <td>  469.394</td> <td>  507.489</td>\n",
       "</tr>\n",
       "<tr>\n",
       "  <th>email</th>        <td>   -1.6095</td> <td>    2.724</td> <td>   -0.591</td> <td> 0.555</td> <td>   -6.949</td> <td>    3.730</td>\n",
       "</tr>\n",
       "<tr>\n",
       "  <th>credit_limit</th> <td>    0.1507</td> <td>    0.008</td> <td>   18.809</td> <td> 0.000</td> <td>    0.135</td> <td>    0.166</td>\n",
       "</tr>\n",
       "<tr>\n",
       "  <th>risk_score</th>   <td>   -2.0929</td> <td>   38.375</td> <td>   -0.055</td> <td> 0.957</td> <td>  -77.325</td> <td>   73.139</td>\n",
       "</tr>\n",
       "<tr>\n",
       "  <th>opened</th>       <td>    3.9808</td> <td>    3.914</td> <td>    1.017</td> <td> 0.309</td> <td>   -3.692</td> <td>   11.654</td>\n",
       "</tr>\n",
       "<tr>\n",
       "  <th>agreement</th>    <td>   11.7093</td> <td>    4.166</td> <td>    2.811</td> <td> 0.005</td> <td>    3.542</td> <td>   19.876</td>\n",
       "</tr>\n",
       "</table>"
      ],
      "text/latex": [
       "\\begin{center}\n",
       "\\begin{tabular}{lcccccc}\n",
       "\\toprule\n",
       "                       & \\textbf{coef} & \\textbf{std err} & \\textbf{t} & \\textbf{P$> |$t$|$} & \\textbf{[0.025} & \\textbf{0.975]}  \\\\\n",
       "\\midrule\n",
       "\\textbf{Intercept}     &     488.4416  &        9.716     &    50.272  &         0.000        &      469.394    &      507.489     \\\\\n",
       "\\textbf{email}         &      -1.6095  &        2.724     &    -0.591  &         0.555        &       -6.949    &        3.730     \\\\\n",
       "\\textbf{credit\\_limit} &       0.1507  &        0.008     &    18.809  &         0.000        &        0.135    &        0.166     \\\\\n",
       "\\textbf{risk\\_score}   &      -2.0929  &       38.375     &    -0.055  &         0.957        &      -77.325    &       73.139     \\\\\n",
       "\\textbf{opened}        &       3.9808  &        3.914     &     1.017  &         0.309        &       -3.692    &       11.654     \\\\\n",
       "\\textbf{agreement}     &      11.7093  &        4.166     &     2.811  &         0.005        &        3.542    &       19.876     \\\\\n",
       "\\bottomrule\n",
       "\\end{tabular}\n",
       "\\end{center}"
      ],
      "text/plain": [
       "<class 'statsmodels.iolib.table.SimpleTable'>"
      ]
     },
     "execution_count": 57,
     "metadata": {},
     "output_type": "execute_result"
    }
   ],
   "source": [
    "email_2 = smf.ols('payments ~ email + credit_limit + risk_score + opened + agreement', data=data).fit()\n",
    "email_2.summary().tables[1]"
   ]
  },
  {
   "cell_type": "markdown",
   "id": "3baf46bc",
   "metadata": {},
   "source": [
    "# Summary of Bad Controls/Covariates\n",
    "\n",
    "This includes\n",
    "\n",
    "1. X in between Treatment and Outcome.\n",
    "2. X is a common effect of Treatment and Outcome."
   ]
  },
  {
   "cell_type": "code",
   "execution_count": 59,
   "id": "cc7f42e7",
   "metadata": {},
   "outputs": [
    {
     "data": {
      "image/svg+xml": [
       "<?xml version=\"1.0\" encoding=\"UTF-8\" standalone=\"no\"?>\n",
       "<!DOCTYPE svg PUBLIC \"-//W3C//DTD SVG 1.1//EN\"\n",
       " \"http://www.w3.org/Graphics/SVG/1.1/DTD/svg11.dtd\">\n",
       "<!-- Generated by graphviz version 12.2.1 (20241206.2353)\n",
       " -->\n",
       "<!-- Pages: 1 -->\n",
       "<svg width=\"89pt\" height=\"260pt\"\n",
       " viewBox=\"0.00 0.00 89.00 260.00\" xmlns=\"http://www.w3.org/2000/svg\" xmlns:xlink=\"http://www.w3.org/1999/xlink\">\n",
       "<g id=\"graph0\" class=\"graph\" transform=\"scale(1 1) rotate(0) translate(4 256)\">\n",
       "<polygon fill=\"white\" stroke=\"none\" points=\"-4,4 -4,-256 85,-256 85,4 -4,4\"/>\n",
       "<!-- T -->\n",
       "<g id=\"node1\" class=\"node\">\n",
       "<title>T</title>\n",
       "<ellipse fill=\"none\" stroke=\"gold\" cx=\"54\" cy=\"-234\" rx=\"27\" ry=\"18\"/>\n",
       "<text text-anchor=\"middle\" x=\"54\" y=\"-228.95\" font-family=\"Times,serif\" font-size=\"14.00\">T</text>\n",
       "</g>\n",
       "<!-- X_1 -->\n",
       "<g id=\"node2\" class=\"node\">\n",
       "<title>X_1</title>\n",
       "<ellipse fill=\"none\" stroke=\"red\" cx=\"27\" cy=\"-162\" rx=\"27\" ry=\"18\"/>\n",
       "<text text-anchor=\"middle\" x=\"27\" y=\"-156.95\" font-family=\"Times,serif\" font-size=\"14.00\">X_1</text>\n",
       "</g>\n",
       "<!-- T&#45;&gt;X_1 -->\n",
       "<g id=\"edge1\" class=\"edge\">\n",
       "<title>T&#45;&gt;X_1</title>\n",
       "<path fill=\"none\" stroke=\"black\" d=\"M47.46,-216.05C44.48,-208.32 40.87,-198.96 37.52,-190.27\"/>\n",
       "<polygon fill=\"black\" stroke=\"black\" points=\"40.88,-189.27 34.02,-181.2 34.35,-191.79 40.88,-189.27\"/>\n",
       "</g>\n",
       "<!-- X_2 -->\n",
       "<g id=\"node4\" class=\"node\">\n",
       "<title>X_2</title>\n",
       "<ellipse fill=\"none\" stroke=\"red\" cx=\"54\" cy=\"-18\" rx=\"27\" ry=\"18\"/>\n",
       "<text text-anchor=\"middle\" x=\"54\" y=\"-12.95\" font-family=\"Times,serif\" font-size=\"14.00\">X_2</text>\n",
       "</g>\n",
       "<!-- T&#45;&gt;X_2 -->\n",
       "<g id=\"edge3\" class=\"edge\">\n",
       "<title>T&#45;&gt;X_2</title>\n",
       "<path fill=\"none\" stroke=\"black\" d=\"M57.65,-215.91C59.68,-205.57 61.98,-192.09 63,-180 67.03,-132.17 67.03,-119.83 63,-72 62.32,-63.97 61.08,-55.33 59.73,-47.4\"/>\n",
       "<polygon fill=\"black\" stroke=\"black\" points=\"63.17,-46.79 57.93,-37.58 56.29,-48.05 63.17,-46.79\"/>\n",
       "</g>\n",
       "<!-- Y -->\n",
       "<g id=\"node3\" class=\"node\">\n",
       "<title>Y</title>\n",
       "<ellipse fill=\"none\" stroke=\"black\" cx=\"27\" cy=\"-90\" rx=\"27\" ry=\"18\"/>\n",
       "<text text-anchor=\"middle\" x=\"27\" y=\"-84.95\" font-family=\"Times,serif\" font-size=\"14.00\">Y</text>\n",
       "</g>\n",
       "<!-- X_1&#45;&gt;Y -->\n",
       "<g id=\"edge2\" class=\"edge\">\n",
       "<title>X_1&#45;&gt;Y</title>\n",
       "<path fill=\"none\" stroke=\"black\" d=\"M27,-143.7C27,-136.41 27,-127.73 27,-119.54\"/>\n",
       "<polygon fill=\"black\" stroke=\"black\" points=\"30.5,-119.62 27,-109.62 23.5,-119.62 30.5,-119.62\"/>\n",
       "</g>\n",
       "<!-- Y&#45;&gt;X_2 -->\n",
       "<g id=\"edge4\" class=\"edge\">\n",
       "<title>Y&#45;&gt;X_2</title>\n",
       "<path fill=\"none\" stroke=\"black\" d=\"M33.54,-72.05C36.52,-64.32 40.13,-54.96 43.48,-46.27\"/>\n",
       "<polygon fill=\"black\" stroke=\"black\" points=\"46.65,-47.79 46.98,-37.2 40.12,-45.27 46.65,-47.79\"/>\n",
       "</g>\n",
       "</g>\n",
       "</svg>\n"
      ],
      "text/plain": [
       "<graphviz.graphs.Digraph at 0x285c4cb10>"
      ]
     },
     "execution_count": 59,
     "metadata": {},
     "output_type": "execute_result"
    }
   ],
   "source": [
    "g = gr.Digraph()\n",
    "\n",
    "g.edge(\"T\", \"X_1\"), g.node(\"T\", color=\"gold\"), g.edge(\"X_1\", \"Y\"), g.node(\"X_1\", color=\"red\")\n",
    "g.edge(\"T\", \"X_2\"), g.edge(\"Y\", \"X_2\"), g.node(\"X_2\", color=\"red\")\n",
    "\n",
    "g"
   ]
  },
  {
   "cell_type": "code",
   "execution_count": null,
   "id": "5c7ade10",
   "metadata": {},
   "outputs": [],
   "source": []
  }
 ],
 "metadata": {
  "kernelspec": {
   "display_name": "Python 3 (ipykernel)",
   "language": "python",
   "name": "python3"
  },
  "language_info": {
   "codemirror_mode": {
    "name": "ipython",
    "version": 3
   },
   "file_extension": ".py",
   "mimetype": "text/x-python",
   "name": "python",
   "nbconvert_exporter": "python",
   "pygments_lexer": "ipython3",
   "version": "3.11.11"
  }
 },
 "nbformat": 4,
 "nbformat_minor": 5
}
