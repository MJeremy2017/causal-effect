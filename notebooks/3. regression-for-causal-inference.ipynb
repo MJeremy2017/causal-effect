{
 "cells": [
  {
   "cell_type": "markdown",
   "id": "c52babb8",
   "metadata": {},
   "source": [
    "In the experiment estimating the effect of __Online Learning(Treatment)__ for __Exam score(Outcome)__, suppose the experiment is __randomised__, to estimate the treatment effect, we can use the following regression model.\n",
    "\n",
    "$$exam_i = \\beta_0 + \\beta_1 Online_i + \\mu_i$$\n",
    "\n",
    "Where $\\beta_0$ is a baseline, $\\beta_1$ would be the treatment effect, and $Online_i = 1$ when it is online learning and 0 otherwise, $\\mu_i$ is the other factors that can not be explained by $Online_i$ treatment."
   ]
  },
  {
   "cell_type": "code",
   "execution_count": 1,
   "id": "5fee8d31",
   "metadata": {},
   "outputs": [],
   "source": [
    "import pandas as pd\n",
    "import warnings\n",
    "warnings.filterwarnings('ignore')\n",
    "\n",
    "import pandas as pd\n",
    "import numpy as np\n",
    "import statsmodels.formula.api as smf\n",
    "import graphviz as gr"
   ]
  },
  {
   "cell_type": "code",
   "execution_count": 2,
   "id": "019e2270",
   "metadata": {},
   "outputs": [
    {
     "data": {
      "text/html": [
       "<div>\n",
       "<style scoped>\n",
       "    .dataframe tbody tr th:only-of-type {\n",
       "        vertical-align: middle;\n",
       "    }\n",
       "\n",
       "    .dataframe tbody tr th {\n",
       "        vertical-align: top;\n",
       "    }\n",
       "\n",
       "    .dataframe thead th {\n",
       "        text-align: right;\n",
       "    }\n",
       "</style>\n",
       "<table border=\"1\" class=\"dataframe\">\n",
       "  <thead>\n",
       "    <tr style=\"text-align: right;\">\n",
       "      <th></th>\n",
       "      <th>gender</th>\n",
       "      <th>asian</th>\n",
       "      <th>black</th>\n",
       "      <th>hawaiian</th>\n",
       "      <th>hispanic</th>\n",
       "      <th>unknown</th>\n",
       "      <th>white</th>\n",
       "      <th>format_ol</th>\n",
       "      <th>format_blended</th>\n",
       "      <th>falsexam</th>\n",
       "    </tr>\n",
       "  </thead>\n",
       "  <tbody>\n",
       "    <tr>\n",
       "      <th>0</th>\n",
       "      <td>0</td>\n",
       "      <td>0.0</td>\n",
       "      <td>0.0</td>\n",
       "      <td>0.0</td>\n",
       "      <td>0.0</td>\n",
       "      <td>0.0</td>\n",
       "      <td>1.0</td>\n",
       "      <td>0</td>\n",
       "      <td>0.0</td>\n",
       "      <td>63.29997</td>\n",
       "    </tr>\n",
       "    <tr>\n",
       "      <th>1</th>\n",
       "      <td>1</td>\n",
       "      <td>0.0</td>\n",
       "      <td>0.0</td>\n",
       "      <td>0.0</td>\n",
       "      <td>0.0</td>\n",
       "      <td>0.0</td>\n",
       "      <td>1.0</td>\n",
       "      <td>0</td>\n",
       "      <td>0.0</td>\n",
       "      <td>79.96000</td>\n",
       "    </tr>\n",
       "    <tr>\n",
       "      <th>4</th>\n",
       "      <td>1</td>\n",
       "      <td>0.0</td>\n",
       "      <td>0.0</td>\n",
       "      <td>0.0</td>\n",
       "      <td>0.0</td>\n",
       "      <td>0.0</td>\n",
       "      <td>1.0</td>\n",
       "      <td>1</td>\n",
       "      <td>0.0</td>\n",
       "      <td>83.30000</td>\n",
       "    </tr>\n",
       "    <tr>\n",
       "      <th>5</th>\n",
       "      <td>0</td>\n",
       "      <td>1.0</td>\n",
       "      <td>0.0</td>\n",
       "      <td>0.0</td>\n",
       "      <td>0.0</td>\n",
       "      <td>0.0</td>\n",
       "      <td>0.0</td>\n",
       "      <td>1</td>\n",
       "      <td>0.0</td>\n",
       "      <td>88.34996</td>\n",
       "    </tr>\n",
       "    <tr>\n",
       "      <th>7</th>\n",
       "      <td>1</td>\n",
       "      <td>1.0</td>\n",
       "      <td>0.0</td>\n",
       "      <td>0.0</td>\n",
       "      <td>0.0</td>\n",
       "      <td>0.0</td>\n",
       "      <td>0.0</td>\n",
       "      <td>0</td>\n",
       "      <td>0.0</td>\n",
       "      <td>90.00000</td>\n",
       "    </tr>\n",
       "  </tbody>\n",
       "</table>\n",
       "</div>"
      ],
      "text/plain": [
       "   gender  asian  black  hawaiian  hispanic  unknown  white  format_ol  \\\n",
       "0       0    0.0    0.0       0.0       0.0      0.0    1.0          0   \n",
       "1       1    0.0    0.0       0.0       0.0      0.0    1.0          0   \n",
       "4       1    0.0    0.0       0.0       0.0      0.0    1.0          1   \n",
       "5       0    1.0    0.0       0.0       0.0      0.0    0.0          1   \n",
       "7       1    1.0    0.0       0.0       0.0      0.0    0.0          0   \n",
       "\n",
       "   format_blended  falsexam  \n",
       "0             0.0  63.29997  \n",
       "1             0.0  79.96000  \n",
       "4             0.0  83.30000  \n",
       "5             0.0  88.34996  \n",
       "7             0.0  90.00000  "
      ]
     },
     "execution_count": 2,
     "metadata": {},
     "output_type": "execute_result"
    }
   ],
   "source": [
    "url = \"https://raw.githubusercontent.com/matheusfacure/python-causality-handbook/master/causal-inference-for-the-brave-and-true/data/online_classroom.csv\"\n",
    "data = pd.read_csv(url).query(\"format_blended==0\")\n",
    "data.head()"
   ]
  },
  {
   "cell_type": "code",
   "execution_count": 3,
   "id": "539e3d74",
   "metadata": {},
   "outputs": [
    {
     "data": {
      "text/html": [
       "<table class=\"simpletable\">\n",
       "<tr>\n",
       "      <td></td>         <th>coef</th>     <th>std err</th>      <th>t</th>      <th>P>|t|</th>  <th>[0.025</th>    <th>0.975]</th>  \n",
       "</tr>\n",
       "<tr>\n",
       "  <th>Intercept</th> <td>   78.5475</td> <td>    1.113</td> <td>   70.563</td> <td> 0.000</td> <td>   76.353</td> <td>   80.742</td>\n",
       "</tr>\n",
       "<tr>\n",
       "  <th>format_ol</th> <td>   -4.9122</td> <td>    1.680</td> <td>   -2.925</td> <td> 0.004</td> <td>   -8.223</td> <td>   -1.601</td>\n",
       "</tr>\n",
       "</table>"
      ],
      "text/latex": [
       "\\begin{center}\n",
       "\\begin{tabular}{lcccccc}\n",
       "\\toprule\n",
       "                    & \\textbf{coef} & \\textbf{std err} & \\textbf{t} & \\textbf{P$> |$t$|$} & \\textbf{[0.025} & \\textbf{0.975]}  \\\\\n",
       "\\midrule\n",
       "\\textbf{Intercept}  &      78.5475  &        1.113     &    70.563  &         0.000        &       76.353    &       80.742     \\\\\n",
       "\\textbf{format\\_ol} &      -4.9122  &        1.680     &    -2.925  &         0.004        &       -8.223    &       -1.601     \\\\\n",
       "\\bottomrule\n",
       "\\end{tabular}\n",
       "\\end{center}"
      ],
      "text/plain": [
       "<class 'statsmodels.iolib.table.SimpleTable'>"
      ]
     },
     "execution_count": 3,
     "metadata": {},
     "output_type": "execute_result"
    }
   ],
   "source": [
    "result = smf.ols('falsexam ~ format_ol', data=data).fit()\n",
    "result.summary().tables[1]"
   ]
  },
  {
   "cell_type": "markdown",
   "id": "263a0ae4",
   "metadata": {},
   "source": [
    "This nice form gives us the treatment effect $\\beta_1 = -4.9122$ and the baseline $\\beta_0 = 78.54$, and also a p-value and confidence interval for free.\n",
    "\n",
    "In fact to derive the treatment effect can directly use the regression formula\n",
    "\n",
    "$$\\beta_1 = \\frac{Cov(Y_i, T_i)}{Var(T_i)}$$"
   ]
  },
  {
   "cell_type": "code",
   "execution_count": 4,
   "id": "dfee4d40",
   "metadata": {},
   "outputs": [
    {
     "data": {
      "text/plain": [
       "-4.912221498226949"
      ]
     },
     "execution_count": 4,
     "metadata": {},
     "output_type": "execute_result"
    }
   ],
   "source": [
    "data['falsexam'].cov(data['format_ol'])/data['format_ol'].var()"
   ]
  },
  {
   "cell_type": "markdown",
   "id": "4f93b159",
   "metadata": {},
   "source": [
    "In fact, if we want to consider a multivariate regression with other variable, we should derive the same result\n",
    "\n",
    "$$exam_i = \\beta_0 + \\beta_1 Online_i + \\beta_2 X_0i + ... + \\mu_i$$\n",
    "\n",
    "And $\\beta_1$ can be derived from\n",
    "\n",
    "$$\\beta_1 = \\frac{Cov(Y_i, \\tilde{T_i})}{Var(\\tilde{T_i})}$$\n",
    "\n",
    "Where $\\tilde{T_i}$ is the residual when regress $X_0, X_1, ...$ on $T$. The intuition behind this is that if we can use $X$ to predict $T$, meaning the treatment is not random, so the residual $\\tilde{T}$ is the part can not be explained by $X$. The treatment version of $\\tilde{T_i}$ has nothing to do with any factors $X$.\n",
    "\n",
    "However, if the experiment is not randomised, that is there are other factors can explain the outcome as well as the treatment, we can include other factors in the regression formula as above. __And the $\\beta$ of treatment we get would be equivalent to the treatment effect with all other factors controlled.__"
   ]
  },
  {
   "cell_type": "code",
   "execution_count": 5,
   "id": "c156d46b",
   "metadata": {},
   "outputs": [
    {
     "name": "stdout",
     "output_type": "stream",
     "text": [
      "beta estimate from residual: -4.505333132264121\n"
     ]
    },
    {
     "data": {
      "text/html": [
       "<table class=\"simpletable\">\n",
       "<tr>\n",
       "      <td></td>         <th>coef</th>     <th>std err</th>      <th>t</th>      <th>P>|t|</th>  <th>[0.025</th>    <th>0.975]</th>  \n",
       "</tr>\n",
       "<tr>\n",
       "  <th>Intercept</th> <td>   75.7088</td> <td>    1.529</td> <td>   49.528</td> <td> 0.000</td> <td>   72.695</td> <td>   78.722</td>\n",
       "</tr>\n",
       "<tr>\n",
       "  <th>format_ol</th> <td>   -4.5053</td> <td>    1.663</td> <td>   -2.709</td> <td> 0.007</td> <td>   -7.783</td> <td>   -1.227</td>\n",
       "</tr>\n",
       "<tr>\n",
       "  <th>gender</th>    <td>    4.4821</td> <td>    1.680</td> <td>    2.668</td> <td> 0.008</td> <td>    1.170</td> <td>    7.794</td>\n",
       "</tr>\n",
       "</table>"
      ],
      "text/latex": [
       "\\begin{center}\n",
       "\\begin{tabular}{lcccccc}\n",
       "\\toprule\n",
       "                    & \\textbf{coef} & \\textbf{std err} & \\textbf{t} & \\textbf{P$> |$t$|$} & \\textbf{[0.025} & \\textbf{0.975]}  \\\\\n",
       "\\midrule\n",
       "\\textbf{Intercept}  &      75.7088  &        1.529     &    49.528  &         0.000        &       72.695    &       78.722     \\\\\n",
       "\\textbf{format\\_ol} &      -4.5053  &        1.663     &    -2.709  &         0.007        &       -7.783    &       -1.227     \\\\\n",
       "\\textbf{gender}     &       4.4821  &        1.680     &     2.668  &         0.008        &        1.170    &        7.794     \\\\\n",
       "\\bottomrule\n",
       "\\end{tabular}\n",
       "\\end{center}"
      ],
      "text/plain": [
       "<class 'statsmodels.iolib.table.SimpleTable'>"
      ]
     },
     "execution_count": 5,
     "metadata": {},
     "output_type": "execute_result"
    }
   ],
   "source": [
    "# The two methods produces the same result\n",
    "reg1 = smf.ols(\"format_ol ~ gender\", data=data).fit()\n",
    "reg1.summary().tables[1]\n",
    "\n",
    "data['resid'] = reg1.resid\n",
    "beta1 = data['falsexam'].cov(data['resid'])/data['resid'].var()\n",
    "\n",
    "print(\"beta estimate from residual:\", beta1)\n",
    "\n",
    "result = smf.ols(\"falsexam ~ format_ol + gender\", data=data).fit()\n",
    "result.summary().tables[1]"
   ]
  },
  {
   "cell_type": "code",
   "execution_count": 6,
   "id": "0c746166",
   "metadata": {},
   "outputs": [
    {
     "data": {
      "text/plain": [
       "4.899675237578061"
      ]
     },
     "execution_count": 6,
     "metadata": {},
     "output_type": "execute_result"
    }
   ],
   "source": [
    "data['falsexam'].cov(data['gender'])/data['gender'].var()"
   ]
  },
  {
   "cell_type": "markdown",
   "id": "d1491531",
   "metadata": {},
   "source": [
    "## Confounding Bias\n",
    "\n",
    "When omit the confounding factors $X$, the estimated treatment effect is biased, as it includes the effect of the confounding component.\n",
    "\n",
    "$$\\frac{Cov(Y_i, T_i)}{Var(T_i)} = \\beta_1 + \\beta^{\\prime}\\delta$$\n",
    "\n",
    "Where $\\delta$ is the coefficient of regressing confounding factors on the treatment, and $\\beta^{\\prime}$ is the coeffient term of regressing $X$ on $Y$, which is the bias term. This bias term becomes 0 in two cases:\n",
    "\n",
    "1. __If the variables $X$ does not explain $Y$__. Intuitively understanding, the treatment effect would not be biased if other variables included are totally irrelevant to the outcome.\n",
    "\n",
    "2. __If the variables $X$ deos not explain $T$__. This means the treatment is randomly assigned, as the assignment can not be explained by any other variables.\n",
    "\n",
    "__If one of them safice, the bias term is going to be 0__, e.g. if $X$ affects $T$ but not $Y$, them the $\\delta$ would be 0, and the bias would be 0.\n",
    "\n",
    "But still, even with $X$ included in the regression, we can not conclude that the final treatment effect is unbiased, as there still can be other factors that we don't know but are confounders to the experiment.\n"
   ]
  },
  {
   "cell_type": "code",
   "execution_count": 7,
   "id": "1caf3639",
   "metadata": {},
   "outputs": [
    {
     "data": {
      "image/svg+xml": [
       "<?xml version=\"1.0\" encoding=\"UTF-8\" standalone=\"no\"?>\n",
       "<!DOCTYPE svg PUBLIC \"-//W3C//DTD SVG 1.1//EN\"\n",
       " \"http://www.w3.org/Graphics/SVG/1.1/DTD/svg11.dtd\">\n",
       "<!-- Generated by graphviz version 12.2.1 (20241206.2353)\n",
       " -->\n",
       "<!-- Pages: 1 -->\n",
       "<svg width=\"352pt\" height=\"188pt\"\n",
       " viewBox=\"0.00 0.00 352.19 188.00\" xmlns=\"http://www.w3.org/2000/svg\" xmlns:xlink=\"http://www.w3.org/1999/xlink\">\n",
       "<g id=\"graph0\" class=\"graph\" transform=\"scale(1 1) rotate(0) translate(4 184)\">\n",
       "<polygon fill=\"white\" stroke=\"none\" points=\"-4,4 -4,-184 348.19,-184 348.19,4 -4,4\"/>\n",
       "<!-- W -->\n",
       "<g id=\"node1\" class=\"node\">\n",
       "<title>W</title>\n",
       "<ellipse fill=\"none\" stroke=\"black\" cx=\"69\" cy=\"-162\" rx=\"27\" ry=\"18\"/>\n",
       "<text text-anchor=\"middle\" x=\"69\" y=\"-156.95\" font-family=\"Times,serif\" font-size=\"14.00\">W</text>\n",
       "</g>\n",
       "<!-- T -->\n",
       "<g id=\"node2\" class=\"node\">\n",
       "<title>T</title>\n",
       "<ellipse fill=\"none\" stroke=\"black\" cx=\"27\" cy=\"-90\" rx=\"27\" ry=\"18\"/>\n",
       "<text text-anchor=\"middle\" x=\"27\" y=\"-84.95\" font-family=\"Times,serif\" font-size=\"14.00\">T</text>\n",
       "</g>\n",
       "<!-- W&#45;&gt;T -->\n",
       "<g id=\"edge1\" class=\"edge\">\n",
       "<title>W&#45;&gt;T</title>\n",
       "<path fill=\"none\" stroke=\"black\" d=\"M59.26,-144.76C54.28,-136.46 48.09,-126.15 42.48,-116.79\"/>\n",
       "<polygon fill=\"black\" stroke=\"black\" points=\"45.61,-115.22 37.47,-108.45 39.61,-118.82 45.61,-115.22\"/>\n",
       "</g>\n",
       "<!-- Y -->\n",
       "<g id=\"node3\" class=\"node\">\n",
       "<title>Y</title>\n",
       "<ellipse fill=\"none\" stroke=\"black\" cx=\"66\" cy=\"-18\" rx=\"27\" ry=\"18\"/>\n",
       "<text text-anchor=\"middle\" x=\"66\" y=\"-12.95\" font-family=\"Times,serif\" font-size=\"14.00\">Y</text>\n",
       "</g>\n",
       "<!-- W&#45;&gt;Y -->\n",
       "<g id=\"edge2\" class=\"edge\">\n",
       "<title>W&#45;&gt;Y</title>\n",
       "<path fill=\"none\" stroke=\"black\" d=\"M68.63,-143.59C68.13,-119.61 67.21,-76.14 66.6,-47.42\"/>\n",
       "<polygon fill=\"black\" stroke=\"black\" points=\"70.1,-47.55 66.39,-37.62 63.11,-47.7 70.1,-47.55\"/>\n",
       "</g>\n",
       "<!-- T&#45;&gt;Y -->\n",
       "<g id=\"edge3\" class=\"edge\">\n",
       "<title>T&#45;&gt;Y</title>\n",
       "<path fill=\"none\" stroke=\"black\" d=\"M36.05,-72.76C40.62,-64.55 46.29,-54.37 51.46,-45.09\"/>\n",
       "<polygon fill=\"black\" stroke=\"black\" points=\"54.46,-46.91 56.27,-36.47 48.34,-43.5 54.46,-46.91\"/>\n",
       "</g>\n",
       "<!-- IQ -->\n",
       "<g id=\"node4\" class=\"node\">\n",
       "<title>IQ</title>\n",
       "<ellipse fill=\"none\" stroke=\"black\" cx=\"161\" cy=\"-162\" rx=\"27\" ry=\"18\"/>\n",
       "<text text-anchor=\"middle\" x=\"161\" y=\"-156.95\" font-family=\"Times,serif\" font-size=\"14.00\">IQ</text>\n",
       "</g>\n",
       "<!-- Educ -->\n",
       "<g id=\"node5\" class=\"node\">\n",
       "<title>Educ</title>\n",
       "<ellipse fill=\"none\" stroke=\"black\" cx=\"149\" cy=\"-90\" rx=\"29.86\" ry=\"18\"/>\n",
       "<text text-anchor=\"middle\" x=\"149\" y=\"-84.95\" font-family=\"Times,serif\" font-size=\"14.00\">Educ</text>\n",
       "</g>\n",
       "<!-- IQ&#45;&gt;Educ -->\n",
       "<g id=\"edge4\" class=\"edge\">\n",
       "<title>IQ&#45;&gt;Educ</title>\n",
       "<path fill=\"none\" stroke=\"red\" d=\"M158.03,-143.7C156.77,-136.32 155.26,-127.52 153.84,-119.25\"/>\n",
       "<polygon fill=\"red\" stroke=\"red\" points=\"157.33,-118.86 152.19,-109.6 150.43,-120.04 157.33,-118.86\"/>\n",
       "</g>\n",
       "<!-- Wage -->\n",
       "<g id=\"node6\" class=\"node\">\n",
       "<title>Wage</title>\n",
       "<ellipse fill=\"none\" stroke=\"black\" cx=\"165\" cy=\"-18\" rx=\"32.41\" ry=\"18\"/>\n",
       "<text text-anchor=\"middle\" x=\"165\" y=\"-12.95\" font-family=\"Times,serif\" font-size=\"14.00\">Wage</text>\n",
       "</g>\n",
       "<!-- IQ&#45;&gt;Wage -->\n",
       "<g id=\"edge5\" class=\"edge\">\n",
       "<title>IQ&#45;&gt;Wage</title>\n",
       "<path fill=\"none\" stroke=\"red\" d=\"M171.63,-145.07C177.74,-134.93 184.82,-121.25 188,-108 191.73,-92.44 191.25,-87.67 188,-72 186.18,-63.22 182.82,-54.11 179.23,-45.98\"/>\n",
       "<polygon fill=\"red\" stroke=\"red\" points=\"182.4,-44.5 174.95,-36.97 176.08,-47.5 182.4,-44.5\"/>\n",
       "</g>\n",
       "<!-- Educ&#45;&gt;Wage -->\n",
       "<g id=\"edge6\" class=\"edge\">\n",
       "<title>Educ&#45;&gt;Wage</title>\n",
       "<path fill=\"none\" stroke=\"red\" d=\"M152.96,-71.7C154.64,-64.32 156.65,-55.52 158.54,-47.25\"/>\n",
       "<polygon fill=\"red\" stroke=\"red\" points=\"161.94,-48.11 160.75,-37.58 155.11,-46.55 161.94,-48.11\"/>\n",
       "</g>\n",
       "<!-- Crime -->\n",
       "<g id=\"node7\" class=\"node\">\n",
       "<title>Crime</title>\n",
       "<ellipse fill=\"none\" stroke=\"black\" cx=\"300\" cy=\"-162\" rx=\"34.46\" ry=\"18\"/>\n",
       "<text text-anchor=\"middle\" x=\"300\" y=\"-156.95\" font-family=\"Times,serif\" font-size=\"14.00\">Crime</text>\n",
       "</g>\n",
       "<!-- Police -->\n",
       "<g id=\"node8\" class=\"node\">\n",
       "<title>Police</title>\n",
       "<ellipse fill=\"none\" stroke=\"black\" cx=\"269\" cy=\"-90\" rx=\"33.95\" ry=\"18\"/>\n",
       "<text text-anchor=\"middle\" x=\"269\" y=\"-84.95\" font-family=\"Times,serif\" font-size=\"14.00\">Police</text>\n",
       "</g>\n",
       "<!-- Crime&#45;&gt;Police -->\n",
       "<g id=\"edge7\" class=\"edge\">\n",
       "<title>Crime&#45;&gt;Police</title>\n",
       "<path fill=\"none\" stroke=\"red\" d=\"M292.5,-144.05C289.07,-136.32 284.92,-126.96 281.08,-118.27\"/>\n",
       "<polygon fill=\"red\" stroke=\"red\" points=\"284.3,-116.9 277.05,-109.17 277.9,-119.73 284.3,-116.9\"/>\n",
       "</g>\n",
       "<!-- Violence -->\n",
       "<g id=\"node9\" class=\"node\">\n",
       "<title>Violence</title>\n",
       "<ellipse fill=\"none\" stroke=\"black\" cx=\"300\" cy=\"-18\" rx=\"44.19\" ry=\"18\"/>\n",
       "<text text-anchor=\"middle\" x=\"300\" y=\"-12.95\" font-family=\"Times,serif\" font-size=\"14.00\">Violence</text>\n",
       "</g>\n",
       "<!-- Crime&#45;&gt;Violence -->\n",
       "<g id=\"edge8\" class=\"edge\">\n",
       "<title>Crime&#45;&gt;Violence</title>\n",
       "<path fill=\"none\" stroke=\"red\" d=\"M304.87,-143.98C307.56,-133.67 310.64,-120.19 312,-108 313.78,-92.1 313.78,-87.9 312,-72 311.08,-63.81 309.4,-55.04 307.57,-47.04\"/>\n",
       "<polygon fill=\"red\" stroke=\"red\" points=\"311.01,-46.37 305.23,-37.49 304.21,-48.04 311.01,-46.37\"/>\n",
       "</g>\n",
       "<!-- Police&#45;&gt;Violence -->\n",
       "<g id=\"edge9\" class=\"edge\">\n",
       "<title>Police&#45;&gt;Violence</title>\n",
       "<path fill=\"none\" stroke=\"blue\" d=\"M276.5,-72.05C279.93,-64.32 284.08,-54.96 287.92,-46.27\"/>\n",
       "<polygon fill=\"blue\" stroke=\"blue\" points=\"291.1,-47.73 291.95,-37.17 284.7,-44.9 291.1,-47.73\"/>\n",
       "</g>\n",
       "</g>\n",
       "</svg>\n"
      ],
      "text/plain": [
       "<graphviz.graphs.Digraph at 0x12fa82310>"
      ]
     },
     "execution_count": 7,
     "metadata": {},
     "output_type": "execute_result"
    }
   ],
   "source": [
    "g = gr.Digraph()\n",
    "\n",
    "g.edge(\"W\", \"T\"), g.edge(\"W\", \"Y\"), g.edge(\"T\", \"Y\")\n",
    "\n",
    "g.edge(\"IQ\", \"Educ\", color=\"red\"), g.edge(\"IQ\", \"Wage\", color=\"red\"), g.edge(\"Educ\", \"Wage\", color=\"red\")\n",
    "\n",
    "g.edge(\"Crime\", \"Police\", color=\"red\"), g.edge(\"Crime\", \"Violence\", color=\"red\"), \n",
    "g.edge(\"Police\", \"Violence\", color=\"blue\")\n",
    "\n",
    "g"
   ]
  },
  {
   "cell_type": "markdown",
   "id": "9889bdc1",
   "metadata": {},
   "source": [
    "In this two examples, __IQ__ and __Crime__ are the confounders. as IQ can lead to more years of education as well as higer wage, if we don't control IQ, the treatment effect of education would be higher than it should be.\n",
    "\n",
    "In the second example, Crime leads to more police as well as higher violence rate, if we don't see Crime, we would observe more police causes more violence. Only if we control the crime, can we know that it is actually suppress violence.\n",
    "\n",
    "> __The source of omitted variable bias is confounding: a variable that affects both the treatment and the outcome.__"
   ]
  },
  {
   "cell_type": "code",
   "execution_count": null,
   "id": "0efdc3df",
   "metadata": {},
   "outputs": [],
   "source": []
  }
 ],
 "metadata": {
  "kernelspec": {
   "display_name": "Python 3 (ipykernel)",
   "language": "python",
   "name": "python3"
  },
  "language_info": {
   "codemirror_mode": {
    "name": "ipython",
    "version": 3
   },
   "file_extension": ".py",
   "mimetype": "text/x-python",
   "name": "python",
   "nbconvert_exporter": "python",
   "pygments_lexer": "ipython3",
   "version": "3.11.11"
  }
 },
 "nbformat": 4,
 "nbformat_minor": 5
}
